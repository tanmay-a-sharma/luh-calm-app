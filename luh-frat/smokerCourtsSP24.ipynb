{
 "cells": [
  {
   "cell_type": "code",
   "execution_count": 47,
   "metadata": {
    "ExecuteTime": {
     "end_time": "2024-01-24T15:46:19.778252Z",
     "start_time": "2024-01-24T15:46:19.757230Z"
    }
   },
   "outputs": [],
   "source": [
    "import pandas as pd\n",
    "# import numpy as np\n",
    "\n",
    "smoker = pd.read_csv(\"databases/smokerResponseSP24.csv\")"
   ]
  },
  {
   "cell_type": "code",
   "execution_count": 48,
   "metadata": {
    "ExecuteTime": {
     "end_time": "2024-01-24T15:46:20.559413Z",
     "start_time": "2024-01-24T15:46:20.553304Z"
    }
   },
   "outputs": [],
   "source": [
    "smoker = smoker.drop(columns=['Anything else I should know?', 'Timestamp', 'Phone Number'])"
   ]
  },
  {
   "cell_type": "code",
   "execution_count": 49,
   "metadata": {
    "ExecuteTime": {
     "end_time": "2024-01-24T15:46:21.236437Z",
     "start_time": "2024-01-24T15:46:21.226525Z"
    }
   },
   "outputs": [
    {
     "data": {
      "text/plain": "                Name    Role 8:45 AM 10:15 AM 11:45 AM 1:15 PM 2:45 PM  \\\n0      Rayhan Sameer      NI      No       No      Yes     Yes     Yes   \n1        Rohan Golla      NI      No       No      Yes     Yes     Yes   \n2   Dave Jankelowitz  Active     Yes      Yes      Yes      No     Yes   \n3  Kendall Tanquilut  Active      No       No       No     Yes     Yes   \n4      Kyle Mitchell  Active     Yes      Yes      Yes     Yes     Yes   \n\n  4:15 PM 5:45 PM  \n0     Yes      No  \n1      No      No  \n2     Yes     Yes  \n3      No      No  \n4      No     Yes  ",
      "text/html": "<div>\n<style scoped>\n    .dataframe tbody tr th:only-of-type {\n        vertical-align: middle;\n    }\n\n    .dataframe tbody tr th {\n        vertical-align: top;\n    }\n\n    .dataframe thead th {\n        text-align: right;\n    }\n</style>\n<table border=\"1\" class=\"dataframe\">\n  <thead>\n    <tr style=\"text-align: right;\">\n      <th></th>\n      <th>Name</th>\n      <th>Role</th>\n      <th>8:45 AM</th>\n      <th>10:15 AM</th>\n      <th>11:45 AM</th>\n      <th>1:15 PM</th>\n      <th>2:45 PM</th>\n      <th>4:15 PM</th>\n      <th>5:45 PM</th>\n    </tr>\n  </thead>\n  <tbody>\n    <tr>\n      <th>0</th>\n      <td>Rayhan Sameer</td>\n      <td>NI</td>\n      <td>No</td>\n      <td>No</td>\n      <td>Yes</td>\n      <td>Yes</td>\n      <td>Yes</td>\n      <td>Yes</td>\n      <td>No</td>\n    </tr>\n    <tr>\n      <th>1</th>\n      <td>Rohan Golla</td>\n      <td>NI</td>\n      <td>No</td>\n      <td>No</td>\n      <td>Yes</td>\n      <td>Yes</td>\n      <td>Yes</td>\n      <td>No</td>\n      <td>No</td>\n    </tr>\n    <tr>\n      <th>2</th>\n      <td>Dave Jankelowitz</td>\n      <td>Active</td>\n      <td>Yes</td>\n      <td>Yes</td>\n      <td>Yes</td>\n      <td>No</td>\n      <td>Yes</td>\n      <td>Yes</td>\n      <td>Yes</td>\n    </tr>\n    <tr>\n      <th>3</th>\n      <td>Kendall Tanquilut</td>\n      <td>Active</td>\n      <td>No</td>\n      <td>No</td>\n      <td>No</td>\n      <td>Yes</td>\n      <td>Yes</td>\n      <td>No</td>\n      <td>No</td>\n    </tr>\n    <tr>\n      <th>4</th>\n      <td>Kyle Mitchell</td>\n      <td>Active</td>\n      <td>Yes</td>\n      <td>Yes</td>\n      <td>Yes</td>\n      <td>Yes</td>\n      <td>Yes</td>\n      <td>No</td>\n      <td>Yes</td>\n    </tr>\n  </tbody>\n</table>\n</div>"
     },
     "execution_count": 49,
     "metadata": {},
     "output_type": "execute_result"
    }
   ],
   "source": [
    "smoker.head()\n"
   ]
  },
  {
   "cell_type": "code",
   "execution_count": 50,
   "metadata": {
    "ExecuteTime": {
     "end_time": "2024-01-24T15:46:22.076729Z",
     "start_time": "2024-01-24T15:46:22.069100Z"
    }
   },
   "outputs": [],
   "source": [
    "import os\n",
    "\n",
    "# Load the dataframe\n",
    "# df = pd.read_csv('data.csv')\n",
    "\n",
    "# Define the directory where you want to save the files as 'databases'\n",
    "output_directory = 'databases'\n",
    "\n",
    "# Create the directory if it doesn't exist\n",
    "if not os.path.exists(output_directory):\n",
    "    os.makedirs(output_directory)\n",
    "\n",
    "# Filter and save based on 'Role'\n",
    "for role in smoker['Role'].unique():\n",
    "    # Filter the DataFrame\n",
    "    filtered_df = smoker[smoker['Role'] == role]\n",
    "\n",
    "    # Define the output file path\n",
    "    output_file = os.path.join(output_directory, f'{role}.csv')\n",
    "\n",
    "    # Save each filtered DataFrame to a CSV file in the specified directory\n",
    "    filtered_df.to_csv(output_file, index=False)\n"
   ]
  },
  {
   "cell_type": "code",
   "execution_count": null,
   "metadata": {},
   "outputs": [],
   "source": []
  }
 ],
 "metadata": {
  "kernelspec": {
   "display_name": "base",
   "language": "python",
   "name": "python3"
  },
  "language_info": {
   "codemirror_mode": {
    "name": "ipython",
    "version": 3
   },
   "file_extension": ".py",
   "mimetype": "text/x-python",
   "name": "python",
   "nbconvert_exporter": "python",
   "pygments_lexer": "ipython3",
   "version": "3.8.12"
  },
  "orig_nbformat": 4
 },
 "nbformat": 4,
 "nbformat_minor": 2
}
